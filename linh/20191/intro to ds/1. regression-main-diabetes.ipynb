{
 "cells": [
  {
   "cell_type": "markdown",
   "metadata": {},
   "source": [
    "## Problem\n",
    "_Predict the likelihood of diabetes progressing through the physiological indicators of the body._\n",
    "\n",
    "## Data Description:\n",
    "\n",
    "- Samples: 442 (Information from 442 patients)\n",
    "- Features:\n",
    "    Age, Sex , \n",
    "    Body mass index, Average blood pressure, S1, S2, S3, S4, S5, S6.\n",
    "- Target:\tColumn 11, The indicator evaluates disease progression after 1 year of treatment. \n",
    "\n",
    "**! Note: Attribute information data has been normalized**\n",
    "\n",
    "Data Source: (https://www4.stat.ncsu.edu/~boos/var.select/diabetes.html)\n"
   ]
  },
  {
   "cell_type": "markdown",
   "metadata": {},
   "source": [
    "## Solution\n",
    "\n",
    "Assume that the likelihood of diabetes progression (symbol: `y`) is linearly dependent on the patient's physiological information as described above (age, gender, Block index, ... - symbols: `x1, x2, .. x_n`):\n",
    "\n",
    "`y = w0 + w1*x1 + w1*x2 + ... + w_n*x_n`\n",
    "\n",
    "Goal: Find a set of weights `[w0, w2, ... w_n]` representing this relationship."
   ]
  },
  {
   "cell_type": "markdown",
   "metadata": {},
   "source": [
    "## Libs\n",
    "\n",
    "- matplotlib: for drawing graphs\n",
    "- numpy: calculate the transformations on the matrix / vector\n",
    "- math: perform some calculation functions\n",
    "- pandas: serving conversion on tabular data\n",
    "- scikit-learn: (sklearn) library to support the development of machine learning models, training and testing functions.\n"
   ]
  },
  {
   "cell_type": "code",
   "execution_count": 13,
   "metadata": {},
   "outputs": [],
   "source": [
    "import matplotlib.pyplot as plt\n",
    "import numpy as np\n",
    "import pandas as pd \n",
    "import math \n",
    "\n",
    "from sklearn import datasets, linear_model\n",
    "from sklearn.metrics import mean_squared_error, r2_score\n"
   ]
  },
  {
   "cell_type": "markdown",
   "metadata": {},
   "source": [
    "## 1. Read the data\n",
    "\n",
    "Diabetes data supported by sklearn, reading the data through the `datasets.load_diabetes ()` function\n",
    "\n",
    "See more datasets at https://scikit-learn.org/stable/datasets/index.html#toy-datasets.\n",
    "\n",
    "The data received in the form of objects with attribute components:\n",
    "- data: 2-dimensional matrix (442x10) - the patient information is standardized in terms of real numbers.\n",
    "- target: array of real numbers (442,) - diabetes progression."
   ]
  },
  {
   "cell_type": "code",
   "execution_count": 14,
   "metadata": {},
   "outputs": [
    {
     "name": "stdout",
     "output_type": "stream",
     "text": [
      "Input dimensions:  (442, 10)\n",
      "Target:  (442,)\n",
      "\n",
      "The first 5 data samples:\n",
      "input:  [[ 0.03807591  0.05068012  0.06169621  0.02187235 -0.0442235  -0.03482076\n",
      "  -0.04340085 -0.00259226  0.01990842 -0.01764613]\n",
      " [-0.00188202 -0.04464164 -0.05147406 -0.02632783 -0.00844872 -0.01916334\n",
      "   0.07441156 -0.03949338 -0.06832974 -0.09220405]\n",
      " [ 0.08529891  0.05068012  0.04445121 -0.00567061 -0.04559945 -0.03419447\n",
      "  -0.03235593 -0.00259226  0.00286377 -0.02593034]\n",
      " [-0.08906294 -0.04464164 -0.01159501 -0.03665645  0.01219057  0.02499059\n",
      "  -0.03603757  0.03430886  0.02269202 -0.00936191]\n",
      " [ 0.00538306 -0.04464164 -0.03638469  0.02187235  0.00393485  0.01559614\n",
      "   0.00814208 -0.00259226 -0.03199144 -0.04664087]]\n",
      "target:  [151.  75. 141. 206. 135.]\n"
     ]
    }
   ],
   "source": [
    "# Load diabetes data \n",
    "diabetes = datasets.load_diabetes()\n",
    "print(\"Input dimensions: \", diabetes.data.shape)\n",
    "print(\"Target: \", diabetes.target.shape)\n",
    "print()\n",
    "\n",
    "print(\"The first 5 data samples:\")\n",
    "print(\"input: \", diabetes.data[:5])\n",
    "print(\"target: \",diabetes.target[:5])"
   ]
  },
  {
   "cell_type": "markdown",
   "metadata": {},
   "source": [
    "### Divide the data into 2 sections of 362 training samples and testing 80 samples "
   ]
  },
  {
   "cell_type": "code",
   "execution_count": 15,
   "metadata": {},
   "outputs": [],
   "source": [
    "diabetes_X = diabetes.data\n",
    "#Train data\n",
    "diabetes_X_train = diabetes_X[:-80]\n",
    "diabetes_y_train = diabetes.target[:-80]\n",
    "#Test data \n",
    "diabetes_X_test = diabetes_X[-80:]\n",
    "diabetes_y_test = diabetes.target[-80:]\n"
   ]
  },
  {
   "cell_type": "markdown",
   "metadata": {},
   "source": [
    "## 2. Building Regression models using Sklearn\n",
    "\n",
    "Building regression model (Linear Regression / Ridge Regression) to learn the parameter set\n",
    "- [Linear Regression](https://scikit-learn.org/stable/modules/generated/sklearn.linear_model.LinearRegression.html) `linear_model.LinearRegression()`\n",
    "- [Ridge Regression](https://scikit-learn.org/stable/modules/generated/sklearn.linear_model.Ridge.html#sklearn.linear_model.Ridge) `linear_model.Ridge()`"
   ]
  },
  {
   "cell_type": "code",
   "execution_count": 16,
   "metadata": {},
   "outputs": [],
   "source": [
    "# Build the model by sklearn \n",
    "regr = linear_model.LinearRegression()\n"
   ]
  },
  {
   "cell_type": "code",
   "execution_count": 17,
   "metadata": {},
   "outputs": [],
   "source": [
    "##### exercise #####\n",
    "# Requirement: Build ridge regression model with alpha = 0.5\n",
    "# Read Ridge Regression docs\n",
    "######################\n",
    "\n",
    "#regr = None \n",
    "\n",
    "######################"
   ]
  },
  {
   "cell_type": "markdown",
   "metadata": {},
   "source": [
    "## 3. Training:\n",
    "\n",
    "Use training data to learn the model.\n",
    "\n",
    "=> Find the weights`[w0, w1, ... w_n]`"
   ]
  },
  {
   "cell_type": "code",
   "execution_count": 18,
   "metadata": {},
   "outputs": [
    {
     "name": "stdout",
     "output_type": "stream",
     "text": [
      "[w1, ... w_n] =  [   3.92433306 -253.94783649  520.35362721  300.43342402 -603.61603253\n",
      "  325.29239155   10.80046579  139.51667826  669.06893875  111.45531856]\n",
      "w0 =  152.7301323963886\n"
     ]
    }
   ],
   "source": [
    "# training\n",
    "regr.fit(diabetes_X_train, diabetes_y_train)\n",
    "print(\"[w1, ... w_n] = \", regr.coef_)\n",
    "print(\"w0 = \", regr.intercept_)"
   ]
  },
  {
   "cell_type": "code",
   "execution_count": 19,
   "metadata": {},
   "outputs": [],
   "source": [
    "##### exercise #####\n",
    "# Requirement: Compute the predict value of the first sample on test dataset.\n",
    "# Use the equation: y = w0 + w1*x1 + w1*x2 + ... + w_n*x_n\n",
    "######################\n",
    "\n",
    "y_pred_first = None \n",
    "\n",
    "######################"
   ]
  },
  {
   "cell_type": "markdown",
   "metadata": {},
   "source": [
    "## 4. Predict for all samples on test dataset."
   ]
  },
  {
   "cell_type": "code",
   "execution_count": 20,
   "metadata": {},
   "outputs": [
    {
     "data": {
      "text/html": [
       "<div>\n",
       "<style scoped>\n",
       "    .dataframe tbody tr th:only-of-type {\n",
       "        vertical-align: middle;\n",
       "    }\n",
       "\n",
       "    .dataframe tbody tr th {\n",
       "        vertical-align: top;\n",
       "    }\n",
       "\n",
       "    .dataframe thead th {\n",
       "        text-align: right;\n",
       "    }\n",
       "</style>\n",
       "<table border=\"1\" class=\"dataframe\">\n",
       "  <thead>\n",
       "    <tr style=\"text-align: right;\">\n",
       "      <th></th>\n",
       "      <th>True</th>\n",
       "      <th>Predict</th>\n",
       "      <th>Deviation</th>\n",
       "    </tr>\n",
       "  </thead>\n",
       "  <tbody>\n",
       "    <tr>\n",
       "      <td>0</td>\n",
       "      <td>321.0</td>\n",
       "      <td>234.908470</td>\n",
       "      <td>86.091530</td>\n",
       "    </tr>\n",
       "    <tr>\n",
       "      <td>1</td>\n",
       "      <td>58.0</td>\n",
       "      <td>163.457251</td>\n",
       "      <td>105.457251</td>\n",
       "    </tr>\n",
       "    <tr>\n",
       "      <td>2</td>\n",
       "      <td>262.0</td>\n",
       "      <td>163.571593</td>\n",
       "      <td>98.428407</td>\n",
       "    </tr>\n",
       "    <tr>\n",
       "      <td>3</td>\n",
       "      <td>206.0</td>\n",
       "      <td>167.786647</td>\n",
       "      <td>38.213353</td>\n",
       "    </tr>\n",
       "    <tr>\n",
       "      <td>4</td>\n",
       "      <td>233.0</td>\n",
       "      <td>254.212487</td>\n",
       "      <td>21.212487</td>\n",
       "    </tr>\n",
       "    <tr>\n",
       "      <td>...</td>\n",
       "      <td>...</td>\n",
       "      <td>...</td>\n",
       "      <td>...</td>\n",
       "    </tr>\n",
       "    <tr>\n",
       "      <td>75</td>\n",
       "      <td>178.0</td>\n",
       "      <td>191.809673</td>\n",
       "      <td>13.809673</td>\n",
       "    </tr>\n",
       "    <tr>\n",
       "      <td>76</td>\n",
       "      <td>104.0</td>\n",
       "      <td>104.520901</td>\n",
       "      <td>0.520901</td>\n",
       "    </tr>\n",
       "    <tr>\n",
       "      <td>77</td>\n",
       "      <td>132.0</td>\n",
       "      <td>123.523369</td>\n",
       "      <td>8.476631</td>\n",
       "    </tr>\n",
       "    <tr>\n",
       "      <td>78</td>\n",
       "      <td>220.0</td>\n",
       "      <td>209.999198</td>\n",
       "      <td>10.000802</td>\n",
       "    </tr>\n",
       "    <tr>\n",
       "      <td>79</td>\n",
       "      <td>57.0</td>\n",
       "      <td>53.811960</td>\n",
       "      <td>3.188040</td>\n",
       "    </tr>\n",
       "  </tbody>\n",
       "</table>\n",
       "<p>80 rows × 3 columns</p>\n",
       "</div>"
      ],
      "text/plain": [
       "     True     Predict   Deviation\n",
       "0   321.0  234.908470   86.091530\n",
       "1    58.0  163.457251  105.457251\n",
       "2   262.0  163.571593   98.428407\n",
       "3   206.0  167.786647   38.213353\n",
       "4   233.0  254.212487   21.212487\n",
       "..    ...         ...         ...\n",
       "75  178.0  191.809673   13.809673\n",
       "76  104.0  104.520901    0.520901\n",
       "77  132.0  123.523369    8.476631\n",
       "78  220.0  209.999198   10.000802\n",
       "79   57.0   53.811960    3.188040\n",
       "\n",
       "[80 rows x 3 columns]"
      ]
     },
     "execution_count": 20,
     "metadata": {},
     "output_type": "execute_result"
    }
   ],
   "source": [
    "# Inference\n",
    "diabetes_y_pred = regr.predict(diabetes_X_test)\n",
    "pd.DataFrame(data=np.array([diabetes_y_test, diabetes_y_pred,\n",
    "                            abs(diabetes_y_test - diabetes_y_pred)]).T,\n",
    "             columns=[\"True\", \"Predict\", \"Deviation\"])  "
   ]
  },
  {
   "cell_type": "markdown",
   "metadata": {},
   "source": [
    "## 5. Evaluation \n",
    "\n",
    "Use RMSE measure to calculate the square root of squared error average. \n",
    "> $\\text{RMSE}(y, \\hat{y}) = \\sqrt{\\frac{1}{n_\\text{samples}} \\sum_{i=0}^{n_\\text{samples} - 1} (y_i - \\hat{y}_i)^2}.$\n",
    "\n",
    "- The smaller the error, the more likely the model is to learn and predict effectively. \n",
    "- How small is it? "
   ]
  },
  {
   "cell_type": "code",
   "execution_count": 21,
   "metadata": {},
   "outputs": [
    {
     "data": {
      "text/plain": [
       "51.64223924042993"
      ]
     },
     "execution_count": 21,
     "metadata": {},
     "output_type": "execute_result"
    }
   ],
   "source": [
    "math.sqrt(mean_squared_error(diabetes_y_test, diabetes_y_pred))"
   ]
  },
  {
   "cell_type": "code",
   "execution_count": 22,
   "metadata": {},
   "outputs": [
    {
     "data": {
      "text/html": [
       "<div>\n",
       "<style scoped>\n",
       "    .dataframe tbody tr th:only-of-type {\n",
       "        vertical-align: middle;\n",
       "    }\n",
       "\n",
       "    .dataframe tbody tr th {\n",
       "        vertical-align: top;\n",
       "    }\n",
       "\n",
       "    .dataframe thead th {\n",
       "        text-align: right;\n",
       "    }\n",
       "</style>\n",
       "<table border=\"1\" class=\"dataframe\">\n",
       "  <thead>\n",
       "    <tr style=\"text-align: right;\">\n",
       "      <th></th>\n",
       "      <th>values</th>\n",
       "    </tr>\n",
       "  </thead>\n",
       "  <tbody>\n",
       "    <tr>\n",
       "      <td>count</td>\n",
       "      <td>80.00000</td>\n",
       "    </tr>\n",
       "    <tr>\n",
       "      <td>mean</td>\n",
       "      <td>152.38750</td>\n",
       "    </tr>\n",
       "    <tr>\n",
       "      <td>std</td>\n",
       "      <td>78.46994</td>\n",
       "    </tr>\n",
       "    <tr>\n",
       "      <td>min</td>\n",
       "      <td>40.00000</td>\n",
       "    </tr>\n",
       "    <tr>\n",
       "      <td>25%</td>\n",
       "      <td>72.00000</td>\n",
       "    </tr>\n",
       "    <tr>\n",
       "      <td>50%</td>\n",
       "      <td>140.00000</td>\n",
       "    </tr>\n",
       "    <tr>\n",
       "      <td>75%</td>\n",
       "      <td>217.50000</td>\n",
       "    </tr>\n",
       "    <tr>\n",
       "      <td>max</td>\n",
       "      <td>321.00000</td>\n",
       "    </tr>\n",
       "  </tbody>\n",
       "</table>\n",
       "</div>"
      ],
      "text/plain": [
       "          values\n",
       "count   80.00000\n",
       "mean   152.38750\n",
       "std     78.46994\n",
       "min     40.00000\n",
       "25%     72.00000\n",
       "50%    140.00000\n",
       "75%    217.50000\n",
       "max    321.00000"
      ]
     },
     "execution_count": 22,
     "metadata": {},
     "output_type": "execute_result"
    },
    {
     "data": {
      "image/png": "[encoded data removed]",
      "text/plain": [
       "<Figure size 432x288 with 1 Axes>"
      ]
     },
     "metadata": {
      "needs_background": "light"
     },
     "output_type": "display_data"
    }
   ],
   "source": [
    "import seaborn as sns\n",
    "sns.distplot(diabetes_y_test, )\n",
    "pd.DataFrame(data=diabetes_y_test, columns=[\"values\"]).describe()"
   ]
  },
  {
   "cell_type": "code",
   "execution_count": null,
   "metadata": {},
   "outputs": [],
   "source": []
  }
 ],
 "metadata": {
  "kernelspec": {
   "display_name": "Python 3",
   "language": "python",
   "name": "python3"
  },
  "language_info": {
   "codemirror_mode": {
    "name": "ipython",
    "version": 3
   },
   "file_extension": ".py",
   "mimetype": "text/x-python",
   "name": "python",
   "nbconvert_exporter": "python",
   "pygments_lexer": "ipython3",
   "version": "3.7.3"
  }
 },
 "nbformat": 4,
 "nbformat_minor": 2
}
